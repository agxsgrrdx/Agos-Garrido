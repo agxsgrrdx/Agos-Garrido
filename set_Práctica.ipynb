{
  "nbformat": 4,
  "nbformat_minor": 0,
  "metadata": {
    "colab": {
      "provenance": [],
      "include_colab_link": true
    },
    "kernelspec": {
      "name": "python3",
      "display_name": "Python 3"
    },
    "language_info": {
      "name": "python"
    }
  },
  "cells": [
    {
      "cell_type": "markdown",
      "metadata": {
        "id": "view-in-github",
        "colab_type": "text"
      },
      "source": [
        "<a href=\"https://colab.research.google.com/github/agxsgrrdx/agxsgrrdx/blob/main/set_Pr%C3%A1ctica.ipynb\" target=\"_parent\"><img src=\"https://colab.research.google.com/assets/colab-badge.svg\" alt=\"Open In Colab\"/></a>"
      ]
    },
    {
      "cell_type": "code",
      "execution_count": 1,
      "metadata": {
        "id": "8VOD-zpMJovw"
      },
      "outputs": [],
      "source": [
        "estudiantes = [\n",
        "    {'name': 'Abud Laspiur, Lourdes Mariel', 'section': 'C', 'dob': '05/12/2006'},\n",
        "    {'name': 'Amador, Luana Micaela', 'section': 'C', 'dob': '09/12/2006'},\n",
        "    {'name': 'Anaquin, Leonardo Ezequiel', 'section': 'C', 'dob': '06/09/2005'},\n",
        "    {'name': 'Araoz Sanchez, Lautaro Nahuel', 'section': 'C', 'dob': '28/12/2005'},\n",
        "    {'name': 'Argañaraz, Agostina Abril', 'section': 'C', 'dob': '11/10/2006'},\n",
        "    {'name': 'Barrera, Matias Ezequiel', 'section': 'C', 'dob': '27/02/2007'},\n",
        "    {'name': 'Barrera, Matias Ezequiel', 'section': 'C', 'dob': '27/02/2007'},  # Repetido\n",
        "    {'name': 'Barrozo Vedia, Joaquin Nicolas', 'section': 'C', 'dob': '15/04/2006'},\n",
        "    {'name': 'Bettinelli, Valentino', 'section': 'C', 'dob': '12/07/2006'},\n",
        "    {'name': 'Bracamonte Martinez, Salvador', 'section': 'C', 'dob': '02/11/2005'},\n",
        "    {'name': 'Colque Rivero, Ariana Zoe Del Valle', 'section': 'C', 'dob': '27/12/2006'},\n",
        "    {'name': 'Diaz, Dulce Maitena', 'section': 'C', 'dob': '11/12/2006'},\n",
        "    {'name': 'Figueroa, Santino Josue', 'section': 'C', 'dob': '12/05/2007'},\n",
        "    {'name': 'Figueroa, Santino Josue', 'section': 'C', 'dob': '12/05/2007'},  # Repetido\n",
        "    {'name': 'Flores Cardozo, Agustina Tiara', 'section': 'C', 'dob': '18/03/2006'},\n",
        "    {'name': 'Gallo, Octavio Ismael', 'section': 'C', 'dob': '04/08/2006'},\n",
        "    {'name': 'Galvan, Lourdes Yamila', 'section': 'C', 'dob': '19/08/2005'},\n",
        "    {'name': 'Giangreco, Vitto Tomasso', 'section': 'C', 'dob': '21/03/2007'},\n",
        "    {'name': 'Grancara, Martina Luna', 'section': 'C', 'dob': '15/12/2006'},\n",
        "    {'name': 'Guanca, Sara Elizabeth', 'section': 'C', 'dob': '17/01/2007'},\n",
        "    {'name': 'Lopez, Victoria Constanza', 'section': 'C', 'dob': '12/11/2007'},\n",
        "    {'name': 'Mamani Garrido, Rosario Agostina', 'section': 'C', 'dob': '24/10/2006'},\n",
        "    {'name': 'Marinaro, Martin Ezequiel', 'section': 'C', 'dob': '03/11/2006'},\n",
        "    {'name': 'Merluzzi Dagum, Ignacio', 'section': 'C', 'dob': '22/12/2005'},\n",
        "    {'name': 'Messina, Martina', 'section': 'C', 'dob': '13/07/2005'},\n",
        "    {'name': 'Rasuk, Karim', 'section': 'C', 'dob': '13/07/2007'},\n",
        "    {'name': 'Rasuk, Karim', 'section': 'C', 'dob': '13/07/2007'},  # Repetido\n",
        "    {'name': 'Rios, Lucia Magali', 'section': 'C', 'dob': '22/09/2006'},\n",
        "    {'name': 'Sanchez Flores, Matías Agustín', 'section': 'C', 'dob': '15/02/2007'},\n",
        "    {'name': 'Scarano, Renato Marcelo', 'section': 'C', 'dob': '06/12/2006'},\n",
        "    {'name': 'Sierra, Lucas Mauricio', 'section': 'C', 'dob': '03/04/2005'},\n",
        "    {'name': 'Tapia, Martin Gabriel', 'section': 'C', 'dob': '30/05/2006'},\n",
        "    {'name': 'Vilte, Mia Antonella Alondra', 'section': 'C', 'dob': '10/09/2005'},\n",
        "    {'name': 'Virgillito, Katya Milena', 'section': 'C', 'dob': '19/06/2007'},\n",
        "    {'name': 'Alurralde, Solange Stefania', 'section': 'D', 'dob': '02/04/2007'},\n",
        "    {'name': 'Alvarado, Ludmila Del Milagro', 'section': 'D', 'dob': '06/09/2006'},\n",
        "    {'name': 'Angel, Camila Juliana', 'section': 'D', 'dob': '07/03/2007'},\n",
        "    {'name': 'Arenas, Lucas Gabriel', 'section': 'D', 'dob': '26/06/2007'},\n",
        "    {'name': 'Caseres, Maria Antonia', 'section': 'D', 'dob': '01/07/2006'},\n",
        "    {'name': 'Castillo, Paulina Milagros', 'section': 'D', 'dob': '01/06/2007'},\n",
        "    {'name': 'Correa Segovia, Hugo Mariano', 'section': 'D', 'dob': '04/12/2006'},\n",
        "    {'name': 'Correa Segovia, Hugo Mariano', 'section': 'D', 'dob': '04/12/2006'},  # Repetido\n",
        "    {'name': 'D Elia, Alvaro Tadeo', 'section': 'D', 'dob': '27/08/2006'},\n",
        "    {'name': 'Flores, Victoria Agustina', 'section': 'D', 'dob': '12/12/2006'},\n",
        "    {'name': 'Geronimo Soriano, Lizzie Amaya', 'section': 'D', 'dob': '20/01/2007'},\n",
        "    {'name': 'Guzman, Angélica Morena', 'section': 'D', 'dob': '11/04/2007'},\n",
        "    {'name': 'Guzman, Jazmin Esmeralda Belen', 'section': 'D', 'dob': '31/07/2006'},\n",
        "    {'name': 'Jaime, Anita Maria Belen', 'section': 'D', 'dob': '19/04/2007'},\n",
        "    {'name': 'Lacour Polo, Nazarena', 'section': 'D', 'dob': '19/12/2005'},\n",
        "    {'name': 'Lascano Guanca, Marcelo Fabricio', 'section': 'D', 'dob': '17/02/2006'},\n",
        "    {'name': 'Lezcano, Celia Morena', 'section': 'D', 'dob': '01/07/2005'},\n",
        "    {'name': 'Martinez, Tomas Andres', 'section': 'D', 'dob': '22/03/2007'},\n",
        "    {'name': 'Portella Valdivia, Pedro Francisco', 'section': 'D', 'dob': '24/01/2007'},\n",
        "    {'name': 'Retamal Cisneros, Zacarias Josue', 'section': 'D', 'dob': '24/02/2007'},\n",
        "    {'name': 'Rosales, Francisco Gabriel', 'section': 'D', 'dob': '14/11/2006'},\n",
        "    {'name': 'Salem Barba, Mahia', 'section': 'D', 'dob': '14/10/2005'},\n",
        "    {'name': 'Soto Camara, Agustin Ignacio', 'section': 'D', 'dob': '07/11/2005'},\n",
        "    {'name': 'Villalba, Irina', 'section': 'D', 'dob': '09/09/2006'},\n",
        "    {'name': 'Voltolini, Emanuel Tobias', 'section': 'D', 'dob': '17/09/2006'},\n",
        "    {'name': 'Zalazar, Santino Stefano', 'section': 'D', 'dob': '30/09/2006'},\n",
        "    {'name': 'Zalazar, Santino Stefano', 'section': 'D', 'dob': '30/09/2006'}  # Repetido\n",
        "]"
      ]
    },
    {
      "cell_type": "code",
      "source": [
        "# Spoiler de estructura que veremos en los siguientes TPs\n",
        "import json\n",
        "for estudiante in estudiantes:\n",
        "  alumno_json = json.dumps(estudiante,indent=4,ensure_ascii=False)\n",
        "  print(alumno_json,\",\")"
      ],
      "metadata": {
        "colab": {
          "base_uri": "https://localhost:8080/"
        },
        "id": "7lcHoIqemYFH",
        "outputId": "433f5b24-ee3e-4c81-be7e-f0e112350a24"
      },
      "execution_count": null,
      "outputs": [
        {
          "output_type": "stream",
          "name": "stdout",
          "text": [
            "{\n",
            "    \"name\": \"Abud Laspiur, Lourdes Mariel\",\n",
            "    \"section\": \"C\",\n",
            "    \"dob\": \"05/12/2006\"\n",
            "} ,\n",
            "{\n",
            "    \"name\": \"Amador, Luana Micaela\",\n",
            "    \"section\": \"C\",\n",
            "    \"dob\": \"09/12/2006\"\n",
            "} ,\n",
            "{\n",
            "    \"name\": \"Anaquin, Leonardo Ezequiel\",\n",
            "    \"section\": \"C\",\n",
            "    \"dob\": \"06/09/2005\"\n",
            "} ,\n",
            "{\n",
            "    \"name\": \"Araoz Sanchez, Lautaro Nahuel\",\n",
            "    \"section\": \"C\",\n",
            "    \"dob\": \"28/12/2005\"\n",
            "} ,\n",
            "{\n",
            "    \"name\": \"Argañaraz, Agostina Abril\",\n",
            "    \"section\": \"C\",\n",
            "    \"dob\": \"11/10/2006\"\n",
            "} ,\n",
            "{\n",
            "    \"name\": \"Barrera, Matias Ezequiel\",\n",
            "    \"section\": \"C\",\n",
            "    \"dob\": \"27/02/2007\"\n",
            "} ,\n",
            "{\n",
            "    \"name\": \"Barrera, Matias Ezequiel\",\n",
            "    \"section\": \"C\",\n",
            "    \"dob\": \"27/02/2007\"\n",
            "} ,\n",
            "{\n",
            "    \"name\": \"Barrozo Vedia, Joaquin Nicolas\",\n",
            "    \"section\": \"C\",\n",
            "    \"dob\": \"15/04/2006\"\n",
            "} ,\n",
            "{\n",
            "    \"name\": \"Bettinelli, Valentino\",\n",
            "    \"section\": \"C\",\n",
            "    \"dob\": \"12/07/2006\"\n",
            "} ,\n",
            "{\n",
            "    \"name\": \"Bracamonte Martinez, Salvador\",\n",
            "    \"section\": \"C\",\n",
            "    \"dob\": \"02/11/2005\"\n",
            "} ,\n",
            "{\n",
            "    \"name\": \"Colque Rivero, Ariana Zoe Del Valle\",\n",
            "    \"section\": \"C\",\n",
            "    \"dob\": \"27/12/2006\"\n",
            "} ,\n",
            "{\n",
            "    \"name\": \"Diaz, Dulce Maitena\",\n",
            "    \"section\": \"C\",\n",
            "    \"dob\": \"11/12/2006\"\n",
            "} ,\n",
            "{\n",
            "    \"name\": \"Figueroa, Santino Josue\",\n",
            "    \"section\": \"C\",\n",
            "    \"dob\": \"12/05/2007\"\n",
            "} ,\n",
            "{\n",
            "    \"name\": \"Figueroa, Santino Josue\",\n",
            "    \"section\": \"C\",\n",
            "    \"dob\": \"12/05/2007\"\n",
            "} ,\n",
            "{\n",
            "    \"name\": \"Flores Cardozo, Agustina Tiara\",\n",
            "    \"section\": \"C\",\n",
            "    \"dob\": \"18/03/2006\"\n",
            "} ,\n",
            "{\n",
            "    \"name\": \"Gallo, Octavio Ismael\",\n",
            "    \"section\": \"C\",\n",
            "    \"dob\": \"04/08/2006\"\n",
            "} ,\n",
            "{\n",
            "    \"name\": \"Galvan, Lourdes Yamila\",\n",
            "    \"section\": \"C\",\n",
            "    \"dob\": \"19/08/2005\"\n",
            "} ,\n",
            "{\n",
            "    \"name\": \"Giangreco, Vitto Tomasso\",\n",
            "    \"section\": \"C\",\n",
            "    \"dob\": \"21/03/2007\"\n",
            "} ,\n",
            "{\n",
            "    \"name\": \"Grancara, Martina Luna\",\n",
            "    \"section\": \"C\",\n",
            "    \"dob\": \"15/12/2006\"\n",
            "} ,\n",
            "{\n",
            "    \"name\": \"Guanca, Sara Elizabeth\",\n",
            "    \"section\": \"C\",\n",
            "    \"dob\": \"17/01/2007\"\n",
            "} ,\n",
            "{\n",
            "    \"name\": \"Lopez, Victoria Constanza\",\n",
            "    \"section\": \"C\",\n",
            "    \"dob\": \"12/11/2007\"\n",
            "} ,\n",
            "{\n",
            "    \"name\": \"Mamani Garrido, Rosario Agostina\",\n",
            "    \"section\": \"C\",\n",
            "    \"dob\": \"24/10/2006\"\n",
            "} ,\n",
            "{\n",
            "    \"name\": \"Marinaro, Martin Ezequiel\",\n",
            "    \"section\": \"C\",\n",
            "    \"dob\": \"03/11/2006\"\n",
            "} ,\n",
            "{\n",
            "    \"name\": \"Merluzzi Dagum, Ignacio\",\n",
            "    \"section\": \"C\",\n",
            "    \"dob\": \"22/12/2005\"\n",
            "} ,\n",
            "{\n",
            "    \"name\": \"Messina, Martina\",\n",
            "    \"section\": \"C\",\n",
            "    \"dob\": \"13/07/2005\"\n",
            "} ,\n",
            "{\n",
            "    \"name\": \"Rasuk, Karim\",\n",
            "    \"section\": \"C\",\n",
            "    \"dob\": \"13/07/2007\"\n",
            "} ,\n",
            "{\n",
            "    \"name\": \"Rasuk, Karim\",\n",
            "    \"section\": \"C\",\n",
            "    \"dob\": \"13/07/2007\"\n",
            "} ,\n",
            "{\n",
            "    \"name\": \"Rios, Lucia Magali\",\n",
            "    \"section\": \"C\",\n",
            "    \"dob\": \"22/09/2006\"\n",
            "} ,\n",
            "{\n",
            "    \"name\": \"Sanchez Flores, Matías Agustín\",\n",
            "    \"section\": \"C\",\n",
            "    \"dob\": \"15/02/2007\"\n",
            "} ,\n",
            "{\n",
            "    \"name\": \"Scarano, Renato Marcelo\",\n",
            "    \"section\": \"C\",\n",
            "    \"dob\": \"06/12/2006\"\n",
            "} ,\n",
            "{\n",
            "    \"name\": \"Sierra, Lucas Mauricio\",\n",
            "    \"section\": \"C\",\n",
            "    \"dob\": \"03/04/2005\"\n",
            "} ,\n",
            "{\n",
            "    \"name\": \"Tapia, Martin Gabriel\",\n",
            "    \"section\": \"C\",\n",
            "    \"dob\": \"30/05/2006\"\n",
            "} ,\n",
            "{\n",
            "    \"name\": \"Vilte, Mia Antonella Alondra\",\n",
            "    \"section\": \"C\",\n",
            "    \"dob\": \"10/09/2005\"\n",
            "} ,\n",
            "{\n",
            "    \"name\": \"Virgillito, Katya Milena\",\n",
            "    \"section\": \"C\",\n",
            "    \"dob\": \"19/06/2007\"\n",
            "} ,\n",
            "{\n",
            "    \"name\": \"Alurralde, Solange Stefania\",\n",
            "    \"section\": \"D\",\n",
            "    \"dob\": \"02/04/2007\"\n",
            "} ,\n",
            "{\n",
            "    \"name\": \"Alvarado, Ludmila Del Milagro\",\n",
            "    \"section\": \"D\",\n",
            "    \"dob\": \"06/09/2006\"\n",
            "} ,\n",
            "{\n",
            "    \"name\": \"Angel, Camila Juliana\",\n",
            "    \"section\": \"D\",\n",
            "    \"dob\": \"07/03/2007\"\n",
            "} ,\n",
            "{\n",
            "    \"name\": \"Arenas, Lucas Gabriel\",\n",
            "    \"section\": \"D\",\n",
            "    \"dob\": \"26/06/2007\"\n",
            "} ,\n",
            "{\n",
            "    \"name\": \"Caseres, Maria Antonia\",\n",
            "    \"section\": \"D\",\n",
            "    \"dob\": \"01/07/2006\"\n",
            "} ,\n",
            "{\n",
            "    \"name\": \"Castillo, Paulina Milagros\",\n",
            "    \"section\": \"D\",\n",
            "    \"dob\": \"01/06/2007\"\n",
            "} ,\n",
            "{\n",
            "    \"name\": \"Correa Segovia, Hugo Mariano\",\n",
            "    \"section\": \"D\",\n",
            "    \"dob\": \"04/12/2006\"\n",
            "} ,\n",
            "{\n",
            "    \"name\": \"Correa Segovia, Hugo Mariano\",\n",
            "    \"section\": \"D\",\n",
            "    \"dob\": \"04/12/2006\"\n",
            "} ,\n",
            "{\n",
            "    \"name\": \"D Elia, Alvaro Tadeo\",\n",
            "    \"section\": \"D\",\n",
            "    \"dob\": \"27/08/2006\"\n",
            "} ,\n",
            "{\n",
            "    \"name\": \"Flores, Victoria Agustina\",\n",
            "    \"section\": \"D\",\n",
            "    \"dob\": \"12/12/2006\"\n",
            "} ,\n",
            "{\n",
            "    \"name\": \"Geronimo Soriano, Lizzie Amaya\",\n",
            "    \"section\": \"D\",\n",
            "    \"dob\": \"20/01/2007\"\n",
            "} ,\n",
            "{\n",
            "    \"name\": \"Guzman, Angélica Morena\",\n",
            "    \"section\": \"D\",\n",
            "    \"dob\": \"11/04/2007\"\n",
            "} ,\n",
            "{\n",
            "    \"name\": \"Guzman, Jazmin Esmeralda Belen\",\n",
            "    \"section\": \"D\",\n",
            "    \"dob\": \"31/07/2006\"\n",
            "} ,\n",
            "{\n",
            "    \"name\": \"Jaime, Anita Maria Belen\",\n",
            "    \"section\": \"D\",\n",
            "    \"dob\": \"19/04/2007\"\n",
            "} ,\n",
            "{\n",
            "    \"name\": \"Lacour Polo, Nazarena\",\n",
            "    \"section\": \"D\",\n",
            "    \"dob\": \"19/12/2005\"\n",
            "} ,\n",
            "{\n",
            "    \"name\": \"Lascano Guanca, Marcelo Fabricio\",\n",
            "    \"section\": \"D\",\n",
            "    \"dob\": \"17/02/2006\"\n",
            "} ,\n",
            "{\n",
            "    \"name\": \"Lezcano, Celia Morena\",\n",
            "    \"section\": \"D\",\n",
            "    \"dob\": \"01/07/2005\"\n",
            "} ,\n",
            "{\n",
            "    \"name\": \"Martinez, Tomas Andres\",\n",
            "    \"section\": \"D\",\n",
            "    \"dob\": \"22/03/2007\"\n",
            "} ,\n",
            "{\n",
            "    \"name\": \"Portella Valdivia, Pedro Francisco\",\n",
            "    \"section\": \"D\",\n",
            "    \"dob\": \"24/01/2007\"\n",
            "} ,\n",
            "{\n",
            "    \"name\": \"Retamal Cisneros, Zacarias Josue\",\n",
            "    \"section\": \"D\",\n",
            "    \"dob\": \"24/02/2007\"\n",
            "} ,\n",
            "{\n",
            "    \"name\": \"Rosales, Francisco Gabriel\",\n",
            "    \"section\": \"D\",\n",
            "    \"dob\": \"14/11/2006\"\n",
            "} ,\n",
            "{\n",
            "    \"name\": \"Salem Barba, Mahia\",\n",
            "    \"section\": \"D\",\n",
            "    \"dob\": \"14/10/2005\"\n",
            "} ,\n",
            "{\n",
            "    \"name\": \"Soto Camara, Agustin Ignacio\",\n",
            "    \"section\": \"D\",\n",
            "    \"dob\": \"07/11/2005\"\n",
            "} ,\n",
            "{\n",
            "    \"name\": \"Villalba, Irina\",\n",
            "    \"section\": \"D\",\n",
            "    \"dob\": \"09/09/2006\"\n",
            "} ,\n",
            "{\n",
            "    \"name\": \"Voltolini, Emanuel Tobias\",\n",
            "    \"section\": \"D\",\n",
            "    \"dob\": \"17/09/2006\"\n",
            "} ,\n",
            "{\n",
            "    \"name\": \"Zalazar, Santino Stefano\",\n",
            "    \"section\": \"D\",\n",
            "    \"dob\": \"30/09/2006\"\n",
            "} ,\n",
            "{\n",
            "    \"name\": \"Zalazar, Santino Stefano\",\n",
            "    \"section\": \"D\",\n",
            "    \"dob\": \"30/09/2006\"\n",
            "} ,\n"
          ]
        }
      ]
    },
    {
      "cell_type": "markdown",
      "source": [
        "## Dada la lista estudiantes:\n",
        "> - Hacer una celda para resolver cada punto.\n",
        "- El TP resuelto será revisado en tu repositorio, no es necesario que lo envíes, pero sí que lo pushees correctamente.\n",
        "- En la nota inicial se contempla:\n",
        "  - La incorporación de este documento a tu propio respositorio.\n",
        "  - El pusheo de los cambios realizados.\n",
        "  - La resolución de los ejercicios propuestos.\n"
      ],
      "metadata": {
        "id": "rd6Ug6v3J4uN"
      }
    },
    {
      "cell_type": "markdown",
      "source": [
        "1. Dada la lista de estudiantes, elimina los elementos repetidos de la misma, usando para ello una estructura set. El resultado final debe ser una lista, con la misma estructura de la original, pero sin datos repetidos.\n",
        "\n",
        "Para esto tener en cuenta que:\n",
        "- Los conjuntos solo pueden almacenar datos inmutables.\n",
        "- Los diccionarios son estructuras mutables.\n",
        "- dict.items() devuelve una lista de tuplas.\n",
        "- dict(tupla) genera un diccionario, donde el primer elemento de la tupla es la clave, y el segundo el valor. Ej:\n",
        "  -\n",
        "  ```python\n",
        "  dict([(\"Alberto\", 10), (\"José\", 7), (\"Dario\", 14), (\"Ana\", 8), (\"Maria\", 9), (\"Emilia\", 10)])\n",
        "\n",
        "  va a generar el siguiente diccionario:\n",
        "\n",
        "  ```python\n",
        "  {'Alberto': 10, 'José': 7, 'Dario': 14, 'Ana': 8, 'Maria': 9, 'Emilia': 10}\n",
        "  ```\n",
        "\n"
      ],
      "metadata": {
        "id": "wRLng-uURyJ3"
      }
    },
    {
      "cell_type": "code",
      "source": [
        "lista_tuplas = []\n",
        "estudiantes_sin_repetidos = []\n",
        "for estudiante in estudiantes:\n",
        "    tupla = tuple(estudiante.items())\n",
        "    lista_tuplas.append(tupla)\n",
        "conjunto_tuplas = set(lista_tuplas)\n",
        "print(conjunto_tuplas)\n",
        "for estudiante in conjunto_tuplas:\n",
        "    un_estudiante = dict(estudiante)\n",
        "    estudiantes_sin_repetidos.append(un_estudiante)\n",
        "for estudiante in estudiantes_sin_repetidos:\n",
        "    print(estudiante)"
      ],
      "metadata": {
        "id": "3RtfdplKRqcW",
        "outputId": "656c48ca-4225-46cf-985d-34cb490e72b7",
        "colab": {
          "base_uri": "https://localhost:8080/"
        }
      },
      "execution_count": 2,
      "outputs": [
        {
          "output_type": "stream",
          "name": "stdout",
          "text": [
            "{(('name', 'Gallo, Octavio Ismael'), ('section', 'C'), ('dob', '04/08/2006')), (('name', 'Rosales, Francisco Gabriel'), ('section', 'D'), ('dob', '14/11/2006')), (('name', 'Mamani Garrido, Rosario Agostina'), ('section', 'C'), ('dob', '24/10/2006')), (('name', 'Araoz Sanchez, Lautaro Nahuel'), ('section', 'C'), ('dob', '28/12/2005')), (('name', 'Colque Rivero, Ariana Zoe Del Valle'), ('section', 'C'), ('dob', '27/12/2006')), (('name', 'Guanca, Sara Elizabeth'), ('section', 'C'), ('dob', '17/01/2007')), (('name', 'Argañaraz, Agostina Abril'), ('section', 'C'), ('dob', '11/10/2006')), (('name', 'Flores, Victoria Agustina'), ('section', 'D'), ('dob', '12/12/2006')), (('name', 'Portella Valdivia, Pedro Francisco'), ('section', 'D'), ('dob', '24/01/2007')), (('name', 'Zalazar, Santino Stefano'), ('section', 'D'), ('dob', '30/09/2006')), (('name', 'Jaime, Anita Maria Belen'), ('section', 'D'), ('dob', '19/04/2007')), (('name', 'Bracamonte Martinez, Salvador'), ('section', 'C'), ('dob', '02/11/2005')), (('name', 'Vilte, Mia Antonella Alondra'), ('section', 'C'), ('dob', '10/09/2005')), (('name', 'Anaquin, Leonardo Ezequiel'), ('section', 'C'), ('dob', '06/09/2005')), (('name', 'Alvarado, Ludmila Del Milagro'), ('section', 'D'), ('dob', '06/09/2006')), (('name', 'Correa Segovia, Hugo Mariano'), ('section', 'D'), ('dob', '04/12/2006')), (('name', 'Merluzzi Dagum, Ignacio'), ('section', 'C'), ('dob', '22/12/2005')), (('name', 'D Elia, Alvaro Tadeo'), ('section', 'D'), ('dob', '27/08/2006')), (('name', 'Barrera, Matias Ezequiel'), ('section', 'C'), ('dob', '27/02/2007')), (('name', 'Scarano, Renato Marcelo'), ('section', 'C'), ('dob', '06/12/2006')), (('name', 'Giangreco, Vitto Tomasso'), ('section', 'C'), ('dob', '21/03/2007')), (('name', 'Rios, Lucia Magali'), ('section', 'C'), ('dob', '22/09/2006')), (('name', 'Figueroa, Santino Josue'), ('section', 'C'), ('dob', '12/05/2007')), (('name', 'Castillo, Paulina Milagros'), ('section', 'D'), ('dob', '01/06/2007')), (('name', 'Virgillito, Katya Milena'), ('section', 'C'), ('dob', '19/06/2007')), (('name', 'Barrozo Vedia, Joaquin Nicolas'), ('section', 'C'), ('dob', '15/04/2006')), (('name', 'Bettinelli, Valentino'), ('section', 'C'), ('dob', '12/07/2006')), (('name', 'Caseres, Maria Antonia'), ('section', 'D'), ('dob', '01/07/2006')), (('name', 'Rasuk, Karim'), ('section', 'C'), ('dob', '13/07/2007')), (('name', 'Sierra, Lucas Mauricio'), ('section', 'C'), ('dob', '03/04/2005')), (('name', 'Messina, Martina'), ('section', 'C'), ('dob', '13/07/2005')), (('name', 'Guzman, Jazmin Esmeralda Belen'), ('section', 'D'), ('dob', '31/07/2006')), (('name', 'Guzman, Angélica Morena'), ('section', 'D'), ('dob', '11/04/2007')), (('name', 'Lacour Polo, Nazarena'), ('section', 'D'), ('dob', '19/12/2005')), (('name', 'Lopez, Victoria Constanza'), ('section', 'C'), ('dob', '12/11/2007')), (('name', 'Alurralde, Solange Stefania'), ('section', 'D'), ('dob', '02/04/2007')), (('name', 'Amador, Luana Micaela'), ('section', 'C'), ('dob', '09/12/2006')), (('name', 'Marinaro, Martin Ezequiel'), ('section', 'C'), ('dob', '03/11/2006')), (('name', 'Arenas, Lucas Gabriel'), ('section', 'D'), ('dob', '26/06/2007')), (('name', 'Retamal Cisneros, Zacarias Josue'), ('section', 'D'), ('dob', '24/02/2007')), (('name', 'Tapia, Martin Gabriel'), ('section', 'C'), ('dob', '30/05/2006')), (('name', 'Soto Camara, Agustin Ignacio'), ('section', 'D'), ('dob', '07/11/2005')), (('name', 'Galvan, Lourdes Yamila'), ('section', 'C'), ('dob', '19/08/2005')), (('name', 'Abud Laspiur, Lourdes Mariel'), ('section', 'C'), ('dob', '05/12/2006')), (('name', 'Flores Cardozo, Agustina Tiara'), ('section', 'C'), ('dob', '18/03/2006')), (('name', 'Martinez, Tomas Andres'), ('section', 'D'), ('dob', '22/03/2007')), (('name', 'Lezcano, Celia Morena'), ('section', 'D'), ('dob', '01/07/2005')), (('name', 'Diaz, Dulce Maitena'), ('section', 'C'), ('dob', '11/12/2006')), (('name', 'Sanchez Flores, Matías Agustín'), ('section', 'C'), ('dob', '15/02/2007')), (('name', 'Grancara, Martina Luna'), ('section', 'C'), ('dob', '15/12/2006')), (('name', 'Geronimo Soriano, Lizzie Amaya'), ('section', 'D'), ('dob', '20/01/2007')), (('name', 'Voltolini, Emanuel Tobias'), ('section', 'D'), ('dob', '17/09/2006')), (('name', 'Angel, Camila Juliana'), ('section', 'D'), ('dob', '07/03/2007')), (('name', 'Lascano Guanca, Marcelo Fabricio'), ('section', 'D'), ('dob', '17/02/2006')), (('name', 'Villalba, Irina'), ('section', 'D'), ('dob', '09/09/2006')), (('name', 'Salem Barba, Mahia'), ('section', 'D'), ('dob', '14/10/2005'))}\n",
            "{'name': 'Gallo, Octavio Ismael', 'section': 'C', 'dob': '04/08/2006'}\n",
            "{'name': 'Rosales, Francisco Gabriel', 'section': 'D', 'dob': '14/11/2006'}\n",
            "{'name': 'Mamani Garrido, Rosario Agostina', 'section': 'C', 'dob': '24/10/2006'}\n",
            "{'name': 'Araoz Sanchez, Lautaro Nahuel', 'section': 'C', 'dob': '28/12/2005'}\n",
            "{'name': 'Colque Rivero, Ariana Zoe Del Valle', 'section': 'C', 'dob': '27/12/2006'}\n",
            "{'name': 'Guanca, Sara Elizabeth', 'section': 'C', 'dob': '17/01/2007'}\n",
            "{'name': 'Argañaraz, Agostina Abril', 'section': 'C', 'dob': '11/10/2006'}\n",
            "{'name': 'Flores, Victoria Agustina', 'section': 'D', 'dob': '12/12/2006'}\n",
            "{'name': 'Portella Valdivia, Pedro Francisco', 'section': 'D', 'dob': '24/01/2007'}\n",
            "{'name': 'Zalazar, Santino Stefano', 'section': 'D', 'dob': '30/09/2006'}\n",
            "{'name': 'Jaime, Anita Maria Belen', 'section': 'D', 'dob': '19/04/2007'}\n",
            "{'name': 'Bracamonte Martinez, Salvador', 'section': 'C', 'dob': '02/11/2005'}\n",
            "{'name': 'Vilte, Mia Antonella Alondra', 'section': 'C', 'dob': '10/09/2005'}\n",
            "{'name': 'Anaquin, Leonardo Ezequiel', 'section': 'C', 'dob': '06/09/2005'}\n",
            "{'name': 'Alvarado, Ludmila Del Milagro', 'section': 'D', 'dob': '06/09/2006'}\n",
            "{'name': 'Correa Segovia, Hugo Mariano', 'section': 'D', 'dob': '04/12/2006'}\n",
            "{'name': 'Merluzzi Dagum, Ignacio', 'section': 'C', 'dob': '22/12/2005'}\n",
            "{'name': 'D Elia, Alvaro Tadeo', 'section': 'D', 'dob': '27/08/2006'}\n",
            "{'name': 'Barrera, Matias Ezequiel', 'section': 'C', 'dob': '27/02/2007'}\n",
            "{'name': 'Scarano, Renato Marcelo', 'section': 'C', 'dob': '06/12/2006'}\n",
            "{'name': 'Giangreco, Vitto Tomasso', 'section': 'C', 'dob': '21/03/2007'}\n",
            "{'name': 'Rios, Lucia Magali', 'section': 'C', 'dob': '22/09/2006'}\n",
            "{'name': 'Figueroa, Santino Josue', 'section': 'C', 'dob': '12/05/2007'}\n",
            "{'name': 'Castillo, Paulina Milagros', 'section': 'D', 'dob': '01/06/2007'}\n",
            "{'name': 'Virgillito, Katya Milena', 'section': 'C', 'dob': '19/06/2007'}\n",
            "{'name': 'Barrozo Vedia, Joaquin Nicolas', 'section': 'C', 'dob': '15/04/2006'}\n",
            "{'name': 'Bettinelli, Valentino', 'section': 'C', 'dob': '12/07/2006'}\n",
            "{'name': 'Caseres, Maria Antonia', 'section': 'D', 'dob': '01/07/2006'}\n",
            "{'name': 'Rasuk, Karim', 'section': 'C', 'dob': '13/07/2007'}\n",
            "{'name': 'Sierra, Lucas Mauricio', 'section': 'C', 'dob': '03/04/2005'}\n",
            "{'name': 'Messina, Martina', 'section': 'C', 'dob': '13/07/2005'}\n",
            "{'name': 'Guzman, Jazmin Esmeralda Belen', 'section': 'D', 'dob': '31/07/2006'}\n",
            "{'name': 'Guzman, Angélica Morena', 'section': 'D', 'dob': '11/04/2007'}\n",
            "{'name': 'Lacour Polo, Nazarena', 'section': 'D', 'dob': '19/12/2005'}\n",
            "{'name': 'Lopez, Victoria Constanza', 'section': 'C', 'dob': '12/11/2007'}\n",
            "{'name': 'Alurralde, Solange Stefania', 'section': 'D', 'dob': '02/04/2007'}\n",
            "{'name': 'Amador, Luana Micaela', 'section': 'C', 'dob': '09/12/2006'}\n",
            "{'name': 'Marinaro, Martin Ezequiel', 'section': 'C', 'dob': '03/11/2006'}\n",
            "{'name': 'Arenas, Lucas Gabriel', 'section': 'D', 'dob': '26/06/2007'}\n",
            "{'name': 'Retamal Cisneros, Zacarias Josue', 'section': 'D', 'dob': '24/02/2007'}\n",
            "{'name': 'Tapia, Martin Gabriel', 'section': 'C', 'dob': '30/05/2006'}\n",
            "{'name': 'Soto Camara, Agustin Ignacio', 'section': 'D', 'dob': '07/11/2005'}\n",
            "{'name': 'Galvan, Lourdes Yamila', 'section': 'C', 'dob': '19/08/2005'}\n",
            "{'name': 'Abud Laspiur, Lourdes Mariel', 'section': 'C', 'dob': '05/12/2006'}\n",
            "{'name': 'Flores Cardozo, Agustina Tiara', 'section': 'C', 'dob': '18/03/2006'}\n",
            "{'name': 'Martinez, Tomas Andres', 'section': 'D', 'dob': '22/03/2007'}\n",
            "{'name': 'Lezcano, Celia Morena', 'section': 'D', 'dob': '01/07/2005'}\n",
            "{'name': 'Diaz, Dulce Maitena', 'section': 'C', 'dob': '11/12/2006'}\n",
            "{'name': 'Sanchez Flores, Matías Agustín', 'section': 'C', 'dob': '15/02/2007'}\n",
            "{'name': 'Grancara, Martina Luna', 'section': 'C', 'dob': '15/12/2006'}\n",
            "{'name': 'Geronimo Soriano, Lizzie Amaya', 'section': 'D', 'dob': '20/01/2007'}\n",
            "{'name': 'Voltolini, Emanuel Tobias', 'section': 'D', 'dob': '17/09/2006'}\n",
            "{'name': 'Angel, Camila Juliana', 'section': 'D', 'dob': '07/03/2007'}\n",
            "{'name': 'Lascano Guanca, Marcelo Fabricio', 'section': 'D', 'dob': '17/02/2006'}\n",
            "{'name': 'Villalba, Irina', 'section': 'D', 'dob': '09/09/2006'}\n",
            "{'name': 'Salem Barba, Mahia', 'section': 'D', 'dob': '14/10/2005'}\n"
          ]
        }
      ]
    },
    {
      "cell_type": "markdown",
      "source": [
        "2. Crea un conjunto de nombres y otro de apellidos para 5C y  para 5D.\n",
        "- Muestra los conjuntos generados\n",
        "\n",
        "> recordá que los conjuntos solo pueden almacenar datos inmutables"
      ],
      "metadata": {
        "id": "dYEGkYZyLy9I"
      }
    },
    {
      "cell_type": "code",
      "source": [
        "nombres_5c = set()\n",
        "apellidos_5c = set()\n",
        "nombres_5d = set()\n",
        "apellidos_5d = set()\n",
        "for estudiante in estudiantes:\n",
        "  nombre_completo = estudiante[\"name\"]\n",
        "  apellido,nombre = nombre_completo.split(\",\")\n",
        "  apellidos = apellido.split(\" \")\n",
        "  nombres = nombre.split(\" \")\n",
        "  if estudiante[\"section\"] == \"C\":\n",
        "   for nombre in nombres:\n",
        "    nombres_5c.add(nombre)\n",
        "   for apellido in apellidos:\n",
        "    apellidos_5c.add(apellido)\n",
        "  else:\n",
        "   for nombre in nombres:\n",
        "    nombres_5d.add(nombre)\n",
        "   for apellido in apellidos:\n",
        "    apellidos_5d.add(apellido)\n",
        "print(f\"{nombres_5c= }\")\n",
        "print(f\"{apellidos_5c= }\")\n",
        "print(f\"{nombres_5d= }\")\n",
        "print(f\"{apellidos_5d= }\")"
      ],
      "metadata": {
        "id": "5hVrzFPgxs_E",
        "outputId": "1a869034-0655-44c5-ea26-699795ab6dba",
        "colab": {
          "base_uri": "https://localhost:8080/"
        }
      },
      "execution_count": 3,
      "outputs": [
        {
          "output_type": "stream",
          "name": "stdout",
          "text": [
            "nombres_5c= {'', 'Ismael', 'Agustina', 'Santino', 'Matias', 'Agostina', 'Martina', 'Lucia', 'Alondra', 'Salvador', 'Mariel', 'Lautaro', 'Katya', 'Ariana', 'Ezequiel', 'Micaela', 'Abril', 'Dulce', 'Valentino', 'Maitena', 'Martin', 'Lourdes', 'Joaquin', 'Ignacio', 'Gabriel', 'Luna', 'Agustín', 'Leonardo', 'Vitto', 'Magali', 'Nicolas', 'Elizabeth', 'Antonella', 'Marcelo', 'Sara', 'Rosario', 'Del', 'Yamila', 'Octavio', 'Josue', 'Tiara', 'Milena', 'Lucas', 'Mia', 'Karim', 'Victoria', 'Matías', 'Mauricio', 'Zoe', 'Constanza', 'Renato', 'Nahuel', 'Valle', 'Tomasso', 'Luana'}\n",
            "apellidos_5c= {'Marinaro', 'Rios', 'Amador', 'Barrozo', 'Merluzzi', 'Vilte', 'Guanca', 'Argañaraz', 'Martinez', 'Galvan', 'Anaquin', 'Abud', 'Rivero', 'Cardozo', 'Virgillito', 'Rasuk', 'Giangreco', 'Lopez', 'Flores', 'Laspiur', 'Araoz', 'Mamani', 'Garrido', 'Grancara', 'Sanchez', 'Dagum', 'Vedia', 'Barrera', 'Figueroa', 'Scarano', 'Tapia', 'Gallo', 'Bettinelli', 'Bracamonte', 'Messina', 'Sierra', 'Diaz', 'Colque'}\n",
            "nombres_5d= {'', 'Solange', 'Stefania', 'Ludmila', 'Agustina', 'Amaya', 'Santino', 'Zacarias', 'Irina', 'Emanuel', 'Angélica', 'Esmeralda', 'Anita', 'Jazmin', 'Tadeo', 'Gabriel', 'Hugo', 'Paulina', 'Mariano', 'Camila', 'Ignacio', 'Lizzie', 'Morena', 'Pedro', 'Marcelo', 'Belen', 'Milagro', 'Del', 'Francisco', 'Milagros', 'Juliana', 'Josue', 'Lucas', 'Fabricio', 'Tobias', 'Maria', 'Victoria', 'Andres', 'Agustin', 'Nazarena', 'Mahia', 'Antonia', 'Tomas', 'Alvaro', 'Stefano', 'Celia'}\n",
            "apellidos_5d= {'Soriano', 'Portella', 'Caseres', 'Angel', 'Lascano', 'Camara', 'Guzman', 'Guanca', 'Lacour', 'Soto', 'Geronimo', 'D', 'Alurralde', 'Jaime', 'Polo', 'Martinez', 'Segovia', 'Castillo', 'Lezcano', 'Elia', 'Flores', 'Valdivia', 'Barba', 'Rosales', 'Retamal', 'Villalba', 'Voltolini', 'Zalazar', 'Cisneros', 'Salem', 'Correa', 'Alvarado', 'Arenas'}\n"
          ]
        }
      ]
    },
    {
      "cell_type": "markdown",
      "source": [
        "3. Muestra cuantos nombres únicos hay en cada curso."
      ],
      "metadata": {
        "id": "UW2dlBsGMAte"
      }
    },
    {
      "cell_type": "code",
      "source": [
        "s_nombres_c=set()\n",
        "for estudiante in estudiantes_sin_repetidos:\n",
        "  nombre_completo=estudiante[\"name\"]\n",
        "  apellido,nombre= nombre_completo.split(\",\")\n",
        "  nombres = nombre.split(\" \")\n",
        "  if estudiante[\"section\"]==\"C\":\n",
        "    for nombre in nombres:\n",
        "      s_nombres_c.add(nombre)\n",
        "for i in range(len(nombres)):\n",
        "  nombres[i] = nombres[i].strip()\n",
        "  s_nombres_c.add(nombres[i])\n",
        "diccionario_onombres={}\n",
        "for nombre in s_nombres_c:\n",
        "   if nombre in diccionario_onombres.keys():\n",
        "      diccionario_onombres[nombre]+=1\n",
        "   else:\n",
        "      diccionario_onombres[nombre]=1\n",
        "\n",
        "for nombre,ocurrencia in diccionario_onombres.items():\n",
        "   if ocurrencia==1:\n",
        "      print(f\"{nombre} es un nombre unico\")"
      ],
      "metadata": {
        "id": "EawAy4SANtkl",
        "outputId": "3e7098c6-508b-45da-c22c-692d709fad2d",
        "colab": {
          "base_uri": "https://localhost:8080/"
        }
      },
      "execution_count": 4,
      "outputs": [
        {
          "output_type": "stream",
          "name": "stdout",
          "text": [
            " es un nombre unico\n",
            "Ismael es un nombre unico\n",
            "Agustina es un nombre unico\n",
            "Santino es un nombre unico\n",
            "Matias es un nombre unico\n",
            "Agostina es un nombre unico\n",
            "Martina es un nombre unico\n",
            "Lucia es un nombre unico\n",
            "Alondra es un nombre unico\n",
            "Salvador es un nombre unico\n",
            "Lautaro es un nombre unico\n",
            "Katya es un nombre unico\n",
            "Mariel es un nombre unico\n",
            "Ariana es un nombre unico\n",
            "Ezequiel es un nombre unico\n",
            "Micaela es un nombre unico\n",
            "Abril es un nombre unico\n",
            "Dulce es un nombre unico\n",
            "Valentino es un nombre unico\n",
            "Gabriel es un nombre unico\n",
            "Martin es un nombre unico\n",
            "Joaquin es un nombre unico\n",
            "Lourdes es un nombre unico\n",
            "Ignacio es un nombre unico\n",
            "Maitena es un nombre unico\n",
            "Luna es un nombre unico\n",
            "Agustín es un nombre unico\n",
            "Leonardo es un nombre unico\n",
            "Vitto es un nombre unico\n",
            "Magali es un nombre unico\n",
            "Elizabeth es un nombre unico\n",
            "Nicolas es un nombre unico\n",
            "Antonella es un nombre unico\n",
            "Marcelo es un nombre unico\n",
            "Sara es un nombre unico\n",
            "Rosario es un nombre unico\n",
            "Del es un nombre unico\n",
            "Yamila es un nombre unico\n",
            "Octavio es un nombre unico\n",
            "Josue es un nombre unico\n",
            "Tiara es un nombre unico\n",
            "Milena es un nombre unico\n",
            "Mia es un nombre unico\n",
            "Lucas es un nombre unico\n",
            "Karim es un nombre unico\n",
            "Victoria es un nombre unico\n",
            "Matías es un nombre unico\n",
            "Mauricio es un nombre unico\n",
            "Zoe es un nombre unico\n",
            "Constanza es un nombre unico\n",
            "Renato es un nombre unico\n",
            "Nahuel es un nombre unico\n",
            "Valle es un nombre unico\n",
            "Mahia es un nombre unico\n",
            "Tomasso es un nombre unico\n",
            "Luana es un nombre unico\n"
          ]
        }
      ]
    },
    {
      "cell_type": "code",
      "source": [
        "s_nombres_d=set()\n",
        "for estudiante in estudiantes_sin_repetidos:\n",
        "  nombre_completo=estudiante[\"name\"]\n",
        "  apellido,nombre= nombre_completo.split(\",\")\n",
        "  nombres = nombre.split(\" \")\n",
        "  if estudiante[\"section\"]==\"D\":\n",
        "    for nombre in nombres:\n",
        "      s_nombres_d.add(nombre)\n",
        "for i in range(len(nombres)):\n",
        "  nombres[i] = nombres[i].strip()\n",
        "  s_nombres_d.add(nombres[i])\n",
        "diccionario_onombres={}\n",
        "for nombre in s_nombres_d:\n",
        "   if nombre in diccionario_onombres.keys():\n",
        "      diccionario_onombres[nombre]+=1\n",
        "   else:\n",
        "      diccionario_onombres[nombre]=1\n",
        "\n",
        "for nombre,ocurrencia in diccionario_onombres.items():\n",
        "   if ocurrencia==1:\n",
        "      print(f\"{nombre} es un nombre unico\")"
      ],
      "metadata": {
        "id": "yog8e1CkSM9o",
        "outputId": "b528a213-a427-48c9-d2ea-4025390a3a9d",
        "colab": {
          "base_uri": "https://localhost:8080/"
        }
      },
      "execution_count": 5,
      "outputs": [
        {
          "output_type": "stream",
          "name": "stdout",
          "text": [
            " es un nombre unico\n",
            "Solange es un nombre unico\n",
            "Agustina es un nombre unico\n",
            "Ludmila es un nombre unico\n",
            "Stefania es un nombre unico\n",
            "Amaya es un nombre unico\n",
            "Santino es un nombre unico\n",
            "Zacarias es un nombre unico\n",
            "Irina es un nombre unico\n",
            "Emanuel es un nombre unico\n",
            "Angélica es un nombre unico\n",
            "Anita es un nombre unico\n",
            "Esmeralda es un nombre unico\n",
            "Jazmin es un nombre unico\n",
            "Tadeo es un nombre unico\n",
            "Gabriel es un nombre unico\n",
            "Hugo es un nombre unico\n",
            "Paulina es un nombre unico\n",
            "Mariano es un nombre unico\n",
            "Ignacio es un nombre unico\n",
            "Camila es un nombre unico\n",
            "Lizzie es un nombre unico\n",
            "Morena es un nombre unico\n",
            "Pedro es un nombre unico\n",
            "Marcelo es un nombre unico\n",
            "Belen es un nombre unico\n",
            "Milagro es un nombre unico\n",
            "Del es un nombre unico\n",
            "Francisco es un nombre unico\n",
            "Milagros es un nombre unico\n",
            "Josue es un nombre unico\n",
            "Juliana es un nombre unico\n",
            "Lucas es un nombre unico\n",
            "Tobias es un nombre unico\n",
            "Fabricio es un nombre unico\n",
            "Maria es un nombre unico\n",
            "Victoria es un nombre unico\n",
            "Andres es un nombre unico\n",
            "Agustin es un nombre unico\n",
            "Nazarena es un nombre unico\n",
            "Mahia es un nombre unico\n",
            "Antonia es un nombre unico\n",
            "Tomas es un nombre unico\n",
            "Stefano es un nombre unico\n",
            "Alvaro es un nombre unico\n",
            "Celia es un nombre unico\n"
          ]
        }
      ]
    },
    {
      "cell_type": "markdown",
      "source": [
        "4. Muestra cuantos apellidos únicos hay en cada curso."
      ],
      "metadata": {
        "id": "kZeEHUYVNwGV"
      }
    },
    {
      "cell_type": "code",
      "source": [
        "s_apellidos_c=set()\n",
        "for estudiante in estudiantes_sin_repetidos:\n",
        "  nombre_completo=estudiante[\"name\"]\n",
        "  apellido,nombre= nombre_completo.split(\",\")\n",
        "  apellidos = apellido.split(\" \")\n",
        "  if estudiante[\"section\"]==\"C\":\n",
        "    for apellido in apellidos:\n",
        "      s_apellidos_c.add(apellido)\n",
        "print(s_apellidos_c)\n",
        "for i in range(len(apellidos)):\n",
        "  apellidos[i] = apellidos[i].strip()\n",
        "  s_apellidos_c.add(apellidos[i])\n",
        "diccionario_oapellidos={}\n",
        "for apellido in s_apellidos_c:\n",
        "   if apellido in diccionario_oapellidos.keys():\n",
        "      diccionario_oapellidos[apellido]+=1\n",
        "   else:\n",
        "      diccionario_oapellidos[apellido]=1\n",
        "\n",
        "for apellido,ocurrencia in diccionario_oapellidos.items():\n",
        "   if ocurrencia==1:\n",
        "      print(f\"{apellido} es un apellido unico\")"
      ],
      "metadata": {
        "id": "q05GnxXgORzt",
        "outputId": "a191b68b-6196-4dd5-ec43-c69d15e8f785",
        "colab": {
          "base_uri": "https://localhost:8080/"
        }
      },
      "execution_count": 6,
      "outputs": [
        {
          "output_type": "stream",
          "name": "stdout",
          "text": [
            "{'Marinaro', 'Rios', 'Vilte', 'Barrozo', 'Merluzzi', 'Amador', 'Guanca', 'Argañaraz', 'Martinez', 'Diaz', 'Anaquin', 'Abud', 'Rivero', 'Cardozo', 'Virgillito', 'Rasuk', 'Giangreco', 'Lopez', 'Flores', 'Laspiur', 'Araoz', 'Mamani', 'Garrido', 'Grancara', 'Sanchez', 'Dagum', 'Vedia', 'Barrera', 'Scarano', 'Figueroa', 'Tapia', 'Gallo', 'Bracamonte', 'Bettinelli', 'Messina', 'Sierra', 'Galvan', 'Colque'}\n",
            "Marinaro es un apellido unico\n",
            "Rios es un apellido unico\n",
            "Vilte es un apellido unico\n",
            "Barrozo es un apellido unico\n",
            "Merluzzi es un apellido unico\n",
            "Amador es un apellido unico\n",
            "Guanca es un apellido unico\n",
            "Argañaraz es un apellido unico\n",
            "Martinez es un apellido unico\n",
            "Diaz es un apellido unico\n",
            "Anaquin es un apellido unico\n",
            "Abud es un apellido unico\n",
            "Rivero es un apellido unico\n",
            "Cardozo es un apellido unico\n",
            "Virgillito es un apellido unico\n",
            "Rasuk es un apellido unico\n",
            "Giangreco es un apellido unico\n",
            "Lopez es un apellido unico\n",
            "Flores es un apellido unico\n",
            "Laspiur es un apellido unico\n",
            "Araoz es un apellido unico\n",
            "Mamani es un apellido unico\n",
            "Garrido es un apellido unico\n",
            "Grancara es un apellido unico\n",
            "Barba es un apellido unico\n",
            "Sanchez es un apellido unico\n",
            "Dagum es un apellido unico\n",
            "Vedia es un apellido unico\n",
            "Barrera es un apellido unico\n",
            "Scarano es un apellido unico\n",
            "Figueroa es un apellido unico\n",
            "Tapia es un apellido unico\n",
            "Gallo es un apellido unico\n",
            "Bracamonte es un apellido unico\n",
            "Bettinelli es un apellido unico\n",
            "Messina es un apellido unico\n",
            "Salem es un apellido unico\n",
            "Sierra es un apellido unico\n",
            "Galvan es un apellido unico\n",
            "Colque es un apellido unico\n"
          ]
        }
      ]
    },
    {
      "cell_type": "code",
      "source": [
        "s_apellidos_d=set()\n",
        "for estudiante in estudiantes_sin_repetidos:\n",
        "  nombre_completo=estudiante[\"name\"]\n",
        "  apellido,nombre= nombre_completo.split(\",\")\n",
        "  apellidos = apellido.split(\" \")\n",
        "  if estudiante[\"section\"]==\"D\":\n",
        "    for apellido in apellidos:\n",
        "      s_apellidos_d.add(apellido)\n",
        "for i in range(len(apellidos)):\n",
        "  apellidos[i] = apellidos[i].strip()\n",
        "  s_apellidos_d.add(apellidos[i])\n",
        "diccionario_oapellidos={}\n",
        "for apellido in s_apellidos_d:\n",
        "   if apellido in diccionario_oapellidos.keys():\n",
        "      diccionario_oapellidos[apellido]+=1\n",
        "   else:\n",
        "      diccionario_oapellidos[apellido]=1\n",
        "\n",
        "for apellido,ocurrencia in diccionario_oapellidos.items():\n",
        "   if ocurrencia==1:\n",
        "      print(f\"{apellido} es un apellido unico\")"
      ],
      "metadata": {
        "id": "ZAewWicSSexN",
        "outputId": "0b15b311-97be-4033-fc12-c64037399fca",
        "colab": {
          "base_uri": "https://localhost:8080/"
        }
      },
      "execution_count": 7,
      "outputs": [
        {
          "output_type": "stream",
          "name": "stdout",
          "text": [
            "Portella es un apellido unico\n",
            "Soriano es un apellido unico\n",
            "Caseres es un apellido unico\n",
            "Angel es un apellido unico\n",
            "Camara es un apellido unico\n",
            "Lascano es un apellido unico\n",
            "Guzman es un apellido unico\n",
            "Lacour es un apellido unico\n",
            "Soto es un apellido unico\n",
            "Guanca es un apellido unico\n",
            "D es un apellido unico\n",
            "Geronimo es un apellido unico\n",
            "Alurralde es un apellido unico\n",
            "Jaime es un apellido unico\n",
            "Polo es un apellido unico\n",
            "Martinez es un apellido unico\n",
            "Segovia es un apellido unico\n",
            "Castillo es un apellido unico\n",
            "Lezcano es un apellido unico\n",
            "Elia es un apellido unico\n",
            "Flores es un apellido unico\n",
            "Valdivia es un apellido unico\n",
            "Barba es un apellido unico\n",
            "Rosales es un apellido unico\n",
            "Retamal es un apellido unico\n",
            "Villalba es un apellido unico\n",
            "Voltolini es un apellido unico\n",
            "Zalazar es un apellido unico\n",
            "Cisneros es un apellido unico\n",
            "Salem es un apellido unico\n",
            "Correa es un apellido unico\n",
            "Alvarado es un apellido unico\n",
            "Arenas es un apellido unico\n"
          ]
        }
      ]
    },
    {
      "cell_type": "markdown",
      "source": [
        "5. Mostrá los nombres que se aparecen em ambos cursos"
      ],
      "metadata": {
        "id": "ywYmA2JQNp3T"
      }
    },
    {
      "cell_type": "code",
      "source": [
        "print(f\"nombres que salen en ambos cursos: {nombres_5c.intersection(nombres_5d)}\")"
      ],
      "metadata": {
        "id": "Cnp334ZrOCjK",
        "outputId": "7eae8111-adbe-49fc-917e-1d9d102d2427",
        "colab": {
          "base_uri": "https://localhost:8080/"
        }
      },
      "execution_count": 9,
      "outputs": [
        {
          "output_type": "stream",
          "name": "stdout",
          "text": [
            "nombres que salen en ambos cursos: {'', 'Victoria', 'Gabriel', 'Agustina', 'Santino', 'Ignacio', 'Marcelo', 'Del', 'Josue', 'Lucas'}\n"
          ]
        }
      ]
    },
    {
      "cell_type": "markdown",
      "source": [
        "6. Mostrá los apellidos que se aparecen en ambos cursos"
      ],
      "metadata": {
        "id": "iAXts6saODoU"
      }
    },
    {
      "cell_type": "code",
      "source": [
        "print(f\"apellidos que salen en los 2 cursos: {apellidos_5c.intersection(apellidos_5d)}\")"
      ],
      "metadata": {
        "id": "FMRsUlvtOJS_",
        "outputId": "69044581-67f1-417f-dfd6-2bfc3225f6a2",
        "colab": {
          "base_uri": "https://localhost:8080/"
        }
      },
      "execution_count": 10,
      "outputs": [
        {
          "output_type": "stream",
          "name": "stdout",
          "text": [
            "apellidos que salen en los 2 cursos: {'Martinez', 'Guanca', 'Flores'}\n"
          ]
        }
      ]
    },
    {
      "cell_type": "markdown",
      "source": [
        "7. Mostrá los nombres de los estudiantes de 5C que no existen en 5D y viceversa."
      ],
      "metadata": {
        "id": "T4PFiwwdOK27"
      }
    },
    {
      "cell_type": "code",
      "source": [
        "print(f\"nombres de 5C que no estan en 5D {nombres_5c.difference(nombres_5d)}\")\n",
        "print(f\"nombres de 5D que no estan en 5C {nombres_5d.difference(nombres_5c)}\")"
      ],
      "metadata": {
        "id": "vjQ2X9x3OmFr",
        "outputId": "be1b28b6-03b2-489f-de05-cbfd5b09b519",
        "colab": {
          "base_uri": "https://localhost:8080/"
        }
      },
      "execution_count": 11,
      "outputs": [
        {
          "output_type": "stream",
          "name": "stdout",
          "text": [
            "nombres de 5C que no estan en 5D {'Ismael', 'Matias', 'Agostina', 'Martina', 'Lucia', 'Alondra', 'Salvador', 'Mariel', 'Lautaro', 'Katya', 'Ariana', 'Ezequiel', 'Micaela', 'Dulce', 'Abril', 'Valentino', 'Maitena', 'Martin', 'Lourdes', 'Joaquin', 'Luna', 'Leonardo', 'Vitto', 'Magali', 'Nicolas', 'Elizabeth', 'Antonella', 'Sara', 'Rosario', 'Yamila', 'Octavio', 'Luana', 'Tiara', 'Milena', 'Mia', 'Karim', 'Matías', 'Mauricio', 'Zoe', 'Constanza', 'Renato', 'Nahuel', 'Valle', 'Tomasso', 'Agustín'}\n",
            "nombres de 5D que no estan en 5C {'Solange', 'Ludmila', 'Stefania', 'Amaya', 'Zacarias', 'Irina', 'Emanuel', 'Angélica', 'Anita', 'Esmeralda', 'Jazmin', 'Tadeo', 'Hugo', 'Paulina', 'Mariano', 'Camila', 'Lizzie', 'Morena', 'Pedro', 'Belen', 'Milagro', 'Francisco', 'Milagros', 'Juliana', 'Fabricio', 'Tobias', 'Maria', 'Andres', 'Agustin', 'Nazarena', 'Mahia', 'Antonia', 'Tomas', 'Alvaro', 'Stefano', 'Celia'}\n"
          ]
        }
      ]
    },
    {
      "cell_type": "markdown",
      "source": [
        "8. Mostrá los apellidos de los estudiantes de 5C que no existen en 5D y viceversa.\n"
      ],
      "metadata": {
        "id": "xfy8SFlZRVGf"
      }
    },
    {
      "cell_type": "code",
      "source": [
        "print(f\"apellidos de 5C que no estan en 5D {apellidos_5c.difference(apellidos_5d)}\")\n",
        "print(f\"apellidos de 5D que no estan en 5C {apellidos_5d.difference(apellidos_5c)}\")"
      ],
      "metadata": {
        "id": "E4Onk1FNRUa2",
        "outputId": "b73fbef9-777a-45dc-a0d8-113c51e836cc",
        "colab": {
          "base_uri": "https://localhost:8080/"
        }
      },
      "execution_count": 12,
      "outputs": [
        {
          "output_type": "stream",
          "name": "stdout",
          "text": [
            "apellidos de 5C que no estan en 5D {'Marinaro', 'Rios', 'Amador', 'Barrozo', 'Merluzzi', 'Vilte', 'Argañaraz', 'Diaz', 'Anaquin', 'Abud', 'Rivero', 'Cardozo', 'Virgillito', 'Rasuk', 'Giangreco', 'Lopez', 'Laspiur', 'Araoz', 'Mamani', 'Garrido', 'Grancara', 'Sanchez', 'Dagum', 'Vedia', 'Barrera', 'Figueroa', 'Scarano', 'Tapia', 'Gallo', 'Bettinelli', 'Bracamonte', 'Messina', 'Sierra', 'Galvan', 'Colque'}\n",
            "apellidos de 5D que no estan en 5C {'Soriano', 'Portella', 'Caseres', 'Angel', 'Lascano', 'Camara', 'Guzman', 'Soto', 'Lacour', 'Geronimo', 'D', 'Alurralde', 'Jaime', 'Polo', 'Segovia', 'Castillo', 'Lezcano', 'Elia', 'Valdivia', 'Barba', 'Rosales', 'Retamal', 'Villalba', 'Voltolini', 'Zalazar', 'Cisneros', 'Salem', 'Correa', 'Alvarado', 'Arenas'}\n"
          ]
        }
      ]
    },
    {
      "cell_type": "markdown",
      "source": [
        "9. Mostrá todos los nombres, menos aquellos que existen en ambos cursos.\n"
      ],
      "metadata": {
        "id": "lW18NgPjRcGP"
      }
    },
    {
      "cell_type": "code",
      "source": [
        "print(f\"Todos los nombres menos aquellos que existen en ambos cursos: \\n{nombres_5c.symmetric_difference(nombres_5d)}\")"
      ],
      "metadata": {
        "id": "jTtWBnalRcoC",
        "outputId": "c70e4844-e31a-4d3c-c2f6-ee7ffa5e6c0c",
        "colab": {
          "base_uri": "https://localhost:8080/"
        }
      },
      "execution_count": 13,
      "outputs": [
        {
          "output_type": "stream",
          "name": "stdout",
          "text": [
            "Todos los nombres menos aquellos que existen en ambos cursos: \n",
            "{'Ludmila', 'Zacarias', 'Lucia', 'Alondra', 'Ariana', 'Jazmin', 'Tadeo', 'Paulina', 'Lizzie', 'Leonardo', 'Vitto', 'Magali', 'Sara', 'Milagros', 'Fabricio', 'Maria', 'Andres', 'Mahia', 'Alvaro', 'Tomasso', 'Ismael', 'Solange', 'Salvador', 'Emanuel', 'Hugo', 'Maitena', 'Martin', 'Mariano', 'Camila', 'Morena', 'Pedro', 'Antonella', 'Belen', 'Octavio', 'Mia', 'Karim', 'Renato', 'Agustin', 'Nazarena', 'Nahuel', 'Valle', 'Tomas', 'Stefania', 'Amaya', 'Matias', 'Martina', 'Mariel', 'Irina', 'Angélica', 'Anita', 'Micaela', 'Abril', 'Valentino', 'Lourdes', 'Nicolas', 'Elizabeth', 'Milagro', 'Francisco', 'Yamila', 'Juliana', 'Tiara', 'Milena', 'Matías', 'Antonia', 'Stefano', 'Celia', 'Agustín', 'Agostina', 'Katya', 'Lautaro', 'Esmeralda', 'Ezequiel', 'Dulce', 'Joaquin', 'Luna', 'Rosario', 'Tobias', 'Mauricio', 'Zoe', 'Constanza', 'Luana'}\n"
          ]
        }
      ]
    },
    {
      "cell_type": "markdown",
      "source": [
        "10. elimina tu nombre del conjunto al que pertenece"
      ],
      "metadata": {
        "id": "E24lH7x5Xbur"
      }
    },
    {
      "cell_type": "code",
      "source": [
        "nombre=input(\"Ingrese su nombre: \")\n",
        "for alumno in estudiantes_sin_repetidos:\n",
        "  if nombre in alumno['name']:\n",
        "    estudiantes_sin_repetidos.remove(alumno)\n",
        "for alumno in estudiantes_sin_repetidos:\n",
        "  print(alumno)"
      ],
      "metadata": {
        "id": "9SeI3GBGXims",
        "outputId": "efb6fbdb-66ee-4315-f338-2b24713fd7c6",
        "colab": {
          "base_uri": "https://localhost:8080/"
        }
      },
      "execution_count": 15,
      "outputs": [
        {
          "output_type": "stream",
          "name": "stdout",
          "text": [
            "Ingrese su nombre: Rosario Agostina\n",
            "{'name': 'Gallo, Octavio Ismael', 'section': 'C', 'dob': '04/08/2006'}\n",
            "{'name': 'Rosales, Francisco Gabriel', 'section': 'D', 'dob': '14/11/2006'}\n",
            "{'name': 'Araoz Sanchez, Lautaro Nahuel', 'section': 'C', 'dob': '28/12/2005'}\n",
            "{'name': 'Colque Rivero, Ariana Zoe Del Valle', 'section': 'C', 'dob': '27/12/2006'}\n",
            "{'name': 'Guanca, Sara Elizabeth', 'section': 'C', 'dob': '17/01/2007'}\n",
            "{'name': 'Argañaraz, Agostina Abril', 'section': 'C', 'dob': '11/10/2006'}\n",
            "{'name': 'Flores, Victoria Agustina', 'section': 'D', 'dob': '12/12/2006'}\n",
            "{'name': 'Portella Valdivia, Pedro Francisco', 'section': 'D', 'dob': '24/01/2007'}\n",
            "{'name': 'Zalazar, Santino Stefano', 'section': 'D', 'dob': '30/09/2006'}\n",
            "{'name': 'Jaime, Anita Maria Belen', 'section': 'D', 'dob': '19/04/2007'}\n",
            "{'name': 'Bracamonte Martinez, Salvador', 'section': 'C', 'dob': '02/11/2005'}\n",
            "{'name': 'Vilte, Mia Antonella Alondra', 'section': 'C', 'dob': '10/09/2005'}\n",
            "{'name': 'Anaquin, Leonardo Ezequiel', 'section': 'C', 'dob': '06/09/2005'}\n",
            "{'name': 'Alvarado, Ludmila Del Milagro', 'section': 'D', 'dob': '06/09/2006'}\n",
            "{'name': 'Correa Segovia, Hugo Mariano', 'section': 'D', 'dob': '04/12/2006'}\n",
            "{'name': 'Merluzzi Dagum, Ignacio', 'section': 'C', 'dob': '22/12/2005'}\n",
            "{'name': 'D Elia, Alvaro Tadeo', 'section': 'D', 'dob': '27/08/2006'}\n",
            "{'name': 'Barrera, Matias Ezequiel', 'section': 'C', 'dob': '27/02/2007'}\n",
            "{'name': 'Scarano, Renato Marcelo', 'section': 'C', 'dob': '06/12/2006'}\n",
            "{'name': 'Giangreco, Vitto Tomasso', 'section': 'C', 'dob': '21/03/2007'}\n",
            "{'name': 'Rios, Lucia Magali', 'section': 'C', 'dob': '22/09/2006'}\n",
            "{'name': 'Figueroa, Santino Josue', 'section': 'C', 'dob': '12/05/2007'}\n",
            "{'name': 'Castillo, Paulina Milagros', 'section': 'D', 'dob': '01/06/2007'}\n",
            "{'name': 'Virgillito, Katya Milena', 'section': 'C', 'dob': '19/06/2007'}\n",
            "{'name': 'Barrozo Vedia, Joaquin Nicolas', 'section': 'C', 'dob': '15/04/2006'}\n",
            "{'name': 'Bettinelli, Valentino', 'section': 'C', 'dob': '12/07/2006'}\n",
            "{'name': 'Caseres, Maria Antonia', 'section': 'D', 'dob': '01/07/2006'}\n",
            "{'name': 'Rasuk, Karim', 'section': 'C', 'dob': '13/07/2007'}\n",
            "{'name': 'Sierra, Lucas Mauricio', 'section': 'C', 'dob': '03/04/2005'}\n",
            "{'name': 'Messina, Martina', 'section': 'C', 'dob': '13/07/2005'}\n",
            "{'name': 'Guzman, Jazmin Esmeralda Belen', 'section': 'D', 'dob': '31/07/2006'}\n",
            "{'name': 'Guzman, Angélica Morena', 'section': 'D', 'dob': '11/04/2007'}\n",
            "{'name': 'Lacour Polo, Nazarena', 'section': 'D', 'dob': '19/12/2005'}\n",
            "{'name': 'Lopez, Victoria Constanza', 'section': 'C', 'dob': '12/11/2007'}\n",
            "{'name': 'Alurralde, Solange Stefania', 'section': 'D', 'dob': '02/04/2007'}\n",
            "{'name': 'Amador, Luana Micaela', 'section': 'C', 'dob': '09/12/2006'}\n",
            "{'name': 'Marinaro, Martin Ezequiel', 'section': 'C', 'dob': '03/11/2006'}\n",
            "{'name': 'Arenas, Lucas Gabriel', 'section': 'D', 'dob': '26/06/2007'}\n",
            "{'name': 'Retamal Cisneros, Zacarias Josue', 'section': 'D', 'dob': '24/02/2007'}\n",
            "{'name': 'Tapia, Martin Gabriel', 'section': 'C', 'dob': '30/05/2006'}\n",
            "{'name': 'Soto Camara, Agustin Ignacio', 'section': 'D', 'dob': '07/11/2005'}\n",
            "{'name': 'Galvan, Lourdes Yamila', 'section': 'C', 'dob': '19/08/2005'}\n",
            "{'name': 'Abud Laspiur, Lourdes Mariel', 'section': 'C', 'dob': '05/12/2006'}\n",
            "{'name': 'Flores Cardozo, Agustina Tiara', 'section': 'C', 'dob': '18/03/2006'}\n",
            "{'name': 'Martinez, Tomas Andres', 'section': 'D', 'dob': '22/03/2007'}\n",
            "{'name': 'Lezcano, Celia Morena', 'section': 'D', 'dob': '01/07/2005'}\n",
            "{'name': 'Diaz, Dulce Maitena', 'section': 'C', 'dob': '11/12/2006'}\n",
            "{'name': 'Sanchez Flores, Matías Agustín', 'section': 'C', 'dob': '15/02/2007'}\n",
            "{'name': 'Grancara, Martina Luna', 'section': 'C', 'dob': '15/12/2006'}\n",
            "{'name': 'Geronimo Soriano, Lizzie Amaya', 'section': 'D', 'dob': '20/01/2007'}\n",
            "{'name': 'Voltolini, Emanuel Tobias', 'section': 'D', 'dob': '17/09/2006'}\n",
            "{'name': 'Angel, Camila Juliana', 'section': 'D', 'dob': '07/03/2007'}\n",
            "{'name': 'Lascano Guanca, Marcelo Fabricio', 'section': 'D', 'dob': '17/02/2006'}\n",
            "{'name': 'Villalba, Irina', 'section': 'D', 'dob': '09/09/2006'}\n",
            "{'name': 'Salem Barba, Mahia', 'section': 'D', 'dob': '14/10/2005'}\n"
          ]
        }
      ]
    },
    {
      "cell_type": "markdown",
      "source": [
        "11. Solicita al usuario un nombre y un apellido y agregalos a los correspondientes conjuntos de tu curso.\n",
        "\n",
        "\n",
        "\n"
      ],
      "metadata": {
        "id": "vOY6K_ydRc3Q"
      }
    },
    {
      "cell_type": "code",
      "source": [
        "nombre=input(\"Ingrese su nombre: \")\n",
        "apellido=input(\"Ingrese su apellido: \")\n",
        "curso=input(\"Ingrese a que curso pertenece: \").upper()\n",
        "nombrecompleto=apellido+\", \"+nombre\n",
        "estudiantes_5C=set()\n",
        "estudiantes_5D=set()\n",
        "for estudiante in estudiantes_sin_repetidos:\n",
        "  nomb_c=estudiante[\"name\"]\n",
        "  if estudiante['section']==\"C\":\n",
        "    estudiantes_5C.add(nomb_c)\n",
        "  else:\n",
        "    estudiantes_5D.add(nomb_c)\n",
        "if curso == \"C\":\n",
        "  estudiantes_5C.add(nombrecompleto)\n",
        "  for estudiante in estudiantes_5C:\n",
        "    print(estudiante)\n",
        "elif curso == \"d\":\n",
        "  estudiantes_5D.add(nombrecompleto)\n",
        "  for estudiante in estudiantes_5D:\n",
        "    print(estudiante)\n",
        "else:\n",
        "  print(\"Opción invalida\")\n",
        "  curso=input(\"Ingrese a que curso pertenece: \").upper()"
      ],
      "metadata": {
        "id": "9JDrd3WqRdTi",
        "outputId": "033f518f-c971-4288-ccc3-e81627682b60",
        "colab": {
          "base_uri": "https://localhost:8080/"
        }
      },
      "execution_count": 17,
      "outputs": [
        {
          "name": "stdout",
          "output_type": "stream",
          "text": [
            "Ingrese su nombre: Rosario Agostina \n",
            "Ingrese su apellido: Mamani Garrido\n",
            "Ingrese a que curso pertenece: 5C\n",
            "Opción invalida\n",
            "Ingrese a que curso pertenece: 5c\n"
          ]
        }
      ]
    },
    {
      "cell_type": "markdown",
      "source": [
        "12. Solicita un nombre y verifica si este existe en el diccionario"
      ],
      "metadata": {
        "id": "hs1vGDrX2wHq"
      }
    },
    {
      "cell_type": "code",
      "source": [
        "nomb=input(\"Ingrese el nombre del estudiante que desea buscar: \").capitalize()\n",
        "existe=False\n",
        "for estudiante in estudiantes_sin_repetidos:\n",
        "  if nomb in estudiante[\"name\"]:\n",
        "    print(f\"El estudiante ingresado si existe\")\n",
        "    existe=True\n",
        "\n",
        "if existe==False:\n",
        "    print(f\"El estudiante ingresado no existe\")"
      ],
      "metadata": {
        "id": "4bbRCYWt2vDO",
        "outputId": "a68c50c5-ac3a-4b2b-8ce6-3425aa00202b",
        "colab": {
          "base_uri": "https://localhost:8080/"
        }
      },
      "execution_count": 18,
      "outputs": [
        {
          "output_type": "stream",
          "name": "stdout",
          "text": [
            "Ingrese el nombre del estudiante que desea buscar: Rosario Agostina\n",
            "El estudiante ingresado no existe\n"
          ]
        }
      ]
    }
  ]
}